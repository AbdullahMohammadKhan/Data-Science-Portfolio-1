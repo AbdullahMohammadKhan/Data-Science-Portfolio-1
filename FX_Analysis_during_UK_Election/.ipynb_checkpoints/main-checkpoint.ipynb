{
 "cells": [
  {
   "cell_type": "markdown",
   "metadata": {},
   "source": [
    "# GBP/USD Exchange Rate during 2017 UK Election Night - Under Construction\n",
    "\n"
   ]
  },
  {
   "cell_type": "code",
   "execution_count": 191,
   "metadata": {},
   "outputs": [],
   "source": [
    "import numpy as np\n",
    "import csv\n",
    "import matplotlib.pyplot as plt\n",
    "from sklearn import linear_model, datasets\n",
    "import statsmodels.api as sm\n",
    "\n",
    "import pandas as pd\n",
    "from collections import OrderedDict\n",
    "from datetime import date\n",
    "\n",
    "from datetime import datetime\n",
    "import matplotlib.pyplot as plt\n",
    "import matplotlib.dates as mdates\n",
    "import pylab\n",
    "\n",
    "import tweepy\n",
    "\n",
    "import json\n",
    "\n",
    "import re\n",
    "from fuzzywuzzy import fuzz\n",
    "from fuzzywuzzy import process"
   ]
  },
  {
   "cell_type": "code",
   "execution_count": 151,
   "metadata": {},
   "outputs": [],
   "source": [
    "CONSUMER_KEY = '4BByuBKYk19fpSl5iMIkju3c0'\n",
    "CONSUMER_SECRET = '2EK91aT0s7uMJ1oWECBRUwkXrxGykigrsmtqtOIAvFBPXiucQq'\n",
    "ACCESS_TOKEN = '892729320736739328-E30nIY5dacqxeugxPoe3TXB2fIjITZB'\n",
    "ACCESS_TOKEN_SECRET = 'WMViNA7y1d1trkb5nt7L5dOAHdScmYBMHm33sLeUVZrWT'\n",
    "\n",
    "\n",
    "auth = tweepy.OAuthHandler(CONSUMER_KEY, CONSUMER_SECRET)\n",
    "auth.set_access_token(ACCESS_TOKEN, ACCESS_TOKEN_SECRET)\n",
    "api = tweepy.API(auth)\n",
    "\n",
    "tweets_raw = api.user_timeline(screen_name = 'bbcelection', count = 200, include_rts = False)\n",
    "for i in range(0,5):\n",
    "    oldest=tweets_raw[-1].id\n",
    "    new_tweets = api.user_timeline(screen_name = 'bbcelection',count=200,max_id=oldest)\n",
    "    tweets_raw.extend(new_tweets)\n",
    "\n",
    "data = [[tw.created_at.year, tw.created_at.month, tw.created_at.day,\"%s.%s\"%(tw.created_at.hour, tw.created_at.minute), tw.id_str, tw.text.encode(\"utf8\")] for tw in tweets_raw ]\n",
    "tweets=pd.DataFrame(data, columns=['year','month','date','time','tweet_id','tweet'])\n"
   ]
  },
  {
   "cell_type": "code",
   "execution_count": 311,
   "metadata": {
    "collapsed": true
   },
   "outputs": [],
   "source": [
    "# Wikipedia data\n",
    "UKpoll = pd.read_csv('data/UK2017Poll.txt', sep='\\t', header=0)\n",
    "UKpoll.columns=['Con_poll', 'Lab_poll', 'Lib_poll','SNP_poll','Pla_poll','Greens_poll',\\\n",
    "                'UKIP_poll', 'Other_poll', 'Seat','Region','2015']\n",
    "results = pd.read_csv(\"data/result.csv\")"
   ]
  },
  {
   "cell_type": "code",
   "execution_count": 312,
   "metadata": {},
   "outputs": [
    {
     "name": "stderr",
     "output_type": "stream",
     "text": [
      "C:\\Users\\AlexH\\Anaconda3\\lib\\site-packages\\ipykernel_launcher.py:3: SettingWithCopyWarning: \n",
      "A value is trying to be set on a copy of a slice from a DataFrame.\n",
      "Try using .loc[row_indexer,col_indexer] = value instead\n",
      "\n",
      "See the caveats in the documentation: http://pandas.pydata.org/pandas-docs/stable/indexing.html#indexing-view-versus-copy\n",
      "  This is separate from the ipykernel package so we can avoid doing imports until\n"
     ]
    }
   ],
   "source": [
    "tweets.tweet=tweets.tweet.astype(str)\n",
    "tweets_cleaned = tweets[tweets.tweet.str.contains('#GE2017')]\n",
    "tweets_cleaned['time_full'] = tweets_cleaned[\"year\"].map(str)+ \"/\"+ tweets_cleaned[\"month\"].map(str) + \\\n",
    "    \"/\"+ tweets_cleaned[\"date\"].map(str)  + \"/\"+ tweets_cleaned[\"time\"].map(str) "
   ]
  },
  {
   "cell_type": "markdown",
   "metadata": {},
   "source": [
    "## Merging result data with time"
   ]
  },
  {
   "cell_type": "code",
   "execution_count": 313,
   "metadata": {},
   "outputs": [
    {
     "name": "stderr",
     "output_type": "stream",
     "text": [
      "C:\\Users\\AlexH\\Anaconda3\\lib\\site-packages\\pandas\\core\\indexing.py:179: SettingWithCopyWarning: \n",
      "A value is trying to be set on a copy of a slice from a DataFrame\n",
      "\n",
      "See the caveats in the documentation: http://pandas.pydata.org/pandas-docs/stable/indexing.html#indexing-view-versus-copy\n",
      "  self._setitem_with_indexer(indexer, value)\n",
      "C:\\Users\\AlexH\\Anaconda3\\lib\\site-packages\\ipykernel_launcher.py:3: UserWarning: This pattern has match groups. To actually get the groups, use str.extract.\n",
      "  This is separate from the ipykernel package so we can avoid doing imports until\n",
      "C:\\Users\\AlexH\\Anaconda3\\lib\\site-packages\\pandas\\core\\indexes\\base.py:2984: RuntimeWarning: '<' not supported between instances of 'str' and 'int', sort order is undefined for incomparable objects\n",
      "  return this.join(other, how=how, return_indexers=return_indexers)\n"
     ]
    },
    {
     "ename": "ValueError",
     "evalue": "Columns must be same length as key",
     "output_type": "error",
     "traceback": [
      "\u001b[1;31m---------------------------------------------------------------------------\u001b[0m",
      "\u001b[1;31mValueError\u001b[0m                                Traceback (most recent call last)",
      "\u001b[1;32m<ipython-input-313-1f719ff93a01>\u001b[0m in \u001b[0;36m<module>\u001b[1;34m()\u001b[0m\n\u001b[0;32m     19\u001b[0m     \u001b[0mresults\u001b[0m\u001b[1;33m[\u001b[0m\u001b[1;34m'time'\u001b[0m\u001b[1;33m]\u001b[0m\u001b[1;33m.\u001b[0m\u001b[0mloc\u001b[0m\u001b[1;33m[\u001b[0m\u001b[0mi\u001b[0m\u001b[1;33m]\u001b[0m\u001b[1;33m=\u001b[0m \u001b[0mdatetime\u001b[0m\u001b[1;33m.\u001b[0m\u001b[0mstrptime\u001b[0m\u001b[1;33m(\u001b[0m\u001b[0mtweets_cleaned\u001b[0m\u001b[1;33m.\u001b[0m\u001b[0mtime_full\u001b[0m\u001b[1;33m[\u001b[0m\u001b[0mi\u001b[0m\u001b[1;33m]\u001b[0m\u001b[1;33m,\u001b[0m\u001b[1;34m'%Y/%m/%d/%H.%M'\u001b[0m\u001b[1;33m)\u001b[0m\u001b[1;33m\u001b[0m\u001b[0m\n\u001b[0;32m     20\u001b[0m \u001b[1;33m\u001b[0m\u001b[0m\n\u001b[1;32m---> 21\u001b[1;33m \u001b[0mresults\u001b[0m\u001b[1;33m[\u001b[0m\u001b[1;33m[\u001b[0m\u001b[1;34m'Con[b]'\u001b[0m\u001b[1;33m,\u001b[0m\u001b[1;34m'Lab[c]'\u001b[0m\u001b[1;33m,\u001b[0m\u001b[1;34m'LD'\u001b[0m\u001b[1;33m,\u001b[0m\u001b[1;34m'SNP'\u001b[0m\u001b[1;33m,\u001b[0m\u001b[1;34m'UKIP'\u001b[0m\u001b[1;33m,\u001b[0m\u001b[1;34m'Grn[d]'\u001b[0m\u001b[1;33m,\u001b[0m\u001b[1;34m'DUP'\u001b[0m\u001b[1;33m]\u001b[0m\u001b[1;33m]\u001b[0m\u001b[1;33m=\u001b[0m\u001b[0mresults\u001b[0m\u001b[1;33m[\u001b[0m\u001b[1;33m[\u001b[0m\u001b[1;34m'Con[b]'\u001b[0m\u001b[1;33m,\u001b[0m\u001b[1;34m'Lab[c]'\u001b[0m\u001b[1;33m,\u001b[0m\u001b[1;34m'LD'\u001b[0m\u001b[1;33m,\u001b[0m\u001b[1;34m'SNP'\u001b[0m\u001b[1;33m,\u001b[0m\u001b[1;34m'UKIP'\u001b[0m\u001b[1;33m,\u001b[0m\u001b[1;34m'Grn[d]'\u001b[0m\u001b[1;33m,\u001b[0m\u001b[1;34m'DUP'\u001b[0m\u001b[1;33m]\u001b[0m\u001b[1;33m]\u001b[0m\u001b[1;33m/\u001b[0m\u001b[0mresults\u001b[0m\u001b[1;33m[\u001b[0m\u001b[1;34m'Total'\u001b[0m\u001b[1;33m]\u001b[0m\u001b[1;33m\u001b[0m\u001b[0m\n\u001b[0m",
      "\u001b[1;32mC:\\Users\\AlexH\\Anaconda3\\lib\\site-packages\\pandas\\core\\frame.py\u001b[0m in \u001b[0;36m__setitem__\u001b[1;34m(self, key, value)\u001b[0m\n\u001b[0;32m   2422\u001b[0m \u001b[1;33m\u001b[0m\u001b[0m\n\u001b[0;32m   2423\u001b[0m         \u001b[1;32mif\u001b[0m \u001b[0misinstance\u001b[0m\u001b[1;33m(\u001b[0m\u001b[0mkey\u001b[0m\u001b[1;33m,\u001b[0m \u001b[1;33m(\u001b[0m\u001b[0mSeries\u001b[0m\u001b[1;33m,\u001b[0m \u001b[0mnp\u001b[0m\u001b[1;33m.\u001b[0m\u001b[0mndarray\u001b[0m\u001b[1;33m,\u001b[0m \u001b[0mlist\u001b[0m\u001b[1;33m,\u001b[0m \u001b[0mIndex\u001b[0m\u001b[1;33m)\u001b[0m\u001b[1;33m)\u001b[0m\u001b[1;33m:\u001b[0m\u001b[1;33m\u001b[0m\u001b[0m\n\u001b[1;32m-> 2424\u001b[1;33m             \u001b[0mself\u001b[0m\u001b[1;33m.\u001b[0m\u001b[0m_setitem_array\u001b[0m\u001b[1;33m(\u001b[0m\u001b[0mkey\u001b[0m\u001b[1;33m,\u001b[0m \u001b[0mvalue\u001b[0m\u001b[1;33m)\u001b[0m\u001b[1;33m\u001b[0m\u001b[0m\n\u001b[0m\u001b[0;32m   2425\u001b[0m         \u001b[1;32melif\u001b[0m \u001b[0misinstance\u001b[0m\u001b[1;33m(\u001b[0m\u001b[0mkey\u001b[0m\u001b[1;33m,\u001b[0m \u001b[0mDataFrame\u001b[0m\u001b[1;33m)\u001b[0m\u001b[1;33m:\u001b[0m\u001b[1;33m\u001b[0m\u001b[0m\n\u001b[0;32m   2426\u001b[0m             \u001b[0mself\u001b[0m\u001b[1;33m.\u001b[0m\u001b[0m_setitem_frame\u001b[0m\u001b[1;33m(\u001b[0m\u001b[0mkey\u001b[0m\u001b[1;33m,\u001b[0m \u001b[0mvalue\u001b[0m\u001b[1;33m)\u001b[0m\u001b[1;33m\u001b[0m\u001b[0m\n",
      "\u001b[1;32mC:\\Users\\AlexH\\Anaconda3\\lib\\site-packages\\pandas\\core\\frame.py\u001b[0m in \u001b[0;36m_setitem_array\u001b[1;34m(self, key, value)\u001b[0m\n\u001b[0;32m   2446\u001b[0m             \u001b[1;32mif\u001b[0m \u001b[0misinstance\u001b[0m\u001b[1;33m(\u001b[0m\u001b[0mvalue\u001b[0m\u001b[1;33m,\u001b[0m \u001b[0mDataFrame\u001b[0m\u001b[1;33m)\u001b[0m\u001b[1;33m:\u001b[0m\u001b[1;33m\u001b[0m\u001b[0m\n\u001b[0;32m   2447\u001b[0m                 \u001b[1;32mif\u001b[0m \u001b[0mlen\u001b[0m\u001b[1;33m(\u001b[0m\u001b[0mvalue\u001b[0m\u001b[1;33m.\u001b[0m\u001b[0mcolumns\u001b[0m\u001b[1;33m)\u001b[0m \u001b[1;33m!=\u001b[0m \u001b[0mlen\u001b[0m\u001b[1;33m(\u001b[0m\u001b[0mkey\u001b[0m\u001b[1;33m)\u001b[0m\u001b[1;33m:\u001b[0m\u001b[1;33m\u001b[0m\u001b[0m\n\u001b[1;32m-> 2448\u001b[1;33m                     \u001b[1;32mraise\u001b[0m \u001b[0mValueError\u001b[0m\u001b[1;33m(\u001b[0m\u001b[1;34m'Columns must be same length as key'\u001b[0m\u001b[1;33m)\u001b[0m\u001b[1;33m\u001b[0m\u001b[0m\n\u001b[0m\u001b[0;32m   2449\u001b[0m                 \u001b[1;32mfor\u001b[0m \u001b[0mk1\u001b[0m\u001b[1;33m,\u001b[0m \u001b[0mk2\u001b[0m \u001b[1;32min\u001b[0m \u001b[0mzip\u001b[0m\u001b[1;33m(\u001b[0m\u001b[0mkey\u001b[0m\u001b[1;33m,\u001b[0m \u001b[0mvalue\u001b[0m\u001b[1;33m.\u001b[0m\u001b[0mcolumns\u001b[0m\u001b[1;33m)\u001b[0m\u001b[1;33m:\u001b[0m\u001b[1;33m\u001b[0m\u001b[0m\n\u001b[0;32m   2450\u001b[0m                     \u001b[0mself\u001b[0m\u001b[1;33m[\u001b[0m\u001b[0mk1\u001b[0m\u001b[1;33m]\u001b[0m \u001b[1;33m=\u001b[0m \u001b[0mvalue\u001b[0m\u001b[1;33m[\u001b[0m\u001b[0mk2\u001b[0m\u001b[1;33m]\u001b[0m\u001b[1;33m\u001b[0m\u001b[0m\n",
      "\u001b[1;31mValueError\u001b[0m: Columns must be same length as key"
     ]
    }
   ],
   "source": [
    "results['time']=np.nan\n",
    "for i in range(len(results)):\n",
    "    tw = tweets_cleaned.tweet.str.contains(str(results.Constituency[i]))\n",
    "\n",
    "    if True not in tw.tolist():\n",
    "        \n",
    "        #finds closes match\n",
    "        max_score=0 \n",
    "        for j in range(len(tweets_cleaned)):        \n",
    "            score = fuzz.token_set_ratio(str(results.Constituency[i]),str(tweets_cleaned.tweet[j]))\n",
    "            if score > max_score:\n",
    "                tw_ind = j\n",
    "                max_score=score\n",
    "    else:\n",
    "        tw_ind = tw.tolist().index(True)\n",
    "\n",
    "        \n",
    "    \n",
    "    results['time'].loc[i]= datetime.strptime(tweets_cleaned.time_full[i],'%Y/%m/%d/%H.%M')\n",
    "    \n",
    "results[['Con[b]','Lab[c]','LD','SNP','UKIP','Grn[d]','DUP']]=results[['Con[b]','Lab[c]','LD','SNP','UKIP','Grn[d]','DUP']]/results['Total']"
   ]
  },
  {
   "cell_type": "markdown",
   "metadata": {},
   "source": [
    "## Merging result data with time"
   ]
  },
  {
   "cell_type": "code",
   "execution_count": 325,
   "metadata": {},
   "outputs": [],
   "source": [
    "full_table = pd.merge(results, UKpoll,  how='left', left_on='Constituency', right_on = 'Seat')\n",
    "full_table = full_table.sort_values(by='time').reset_index(drop=True)"
   ]
  },
  {
   "cell_type": "markdown",
   "metadata": {},
   "source": [
    "## Analysis"
   ]
  },
  {
   "cell_type": "code",
   "execution_count": 415,
   "metadata": {},
   "outputs": [
    {
     "name": "stderr",
     "output_type": "stream",
     "text": [
      "C:\\Users\\AlexH\\Anaconda3\\lib\\site-packages\\ipykernel_launcher.py:59: RuntimeWarning: invalid value encountered in greater\n"
     ]
    },
    {
     "ename": "KeyboardInterrupt",
     "evalue": "",
     "output_type": "error",
     "traceback": [
      "\u001b[1;31m---------------------------------------------------------------------------\u001b[0m",
      "\u001b[1;31mKeyboardInterrupt\u001b[0m                         Traceback (most recent call last)",
      "\u001b[1;32m<ipython-input-415-7428614b93ad>\u001b[0m in \u001b[0;36m<module>\u001b[1;34m()\u001b[0m\n\u001b[0;32m     55\u001b[0m         \u001b[1;31m#Liberal\u001b[0m\u001b[1;33m\u001b[0m\u001b[1;33m\u001b[0m\u001b[0m\n\u001b[0;32m     56\u001b[0m         \u001b[0merror_lib\u001b[0m \u001b[1;33m=\u001b[0m \u001b[0mnp\u001b[0m\u001b[1;33m.\u001b[0m\u001b[0mrandom\u001b[0m\u001b[1;33m.\u001b[0m\u001b[0mnormal\u001b[0m\u001b[1;33m(\u001b[0m\u001b[0mnp\u001b[0m\u001b[1;33m.\u001b[0m\u001b[0mmean\u001b[0m\u001b[1;33m(\u001b[0m\u001b[0mmodel_lib\u001b[0m\u001b[1;33m.\u001b[0m\u001b[0mresid\u001b[0m\u001b[1;33m)\u001b[0m\u001b[1;33m,\u001b[0m \u001b[0mnp\u001b[0m\u001b[1;33m.\u001b[0m\u001b[0mstd\u001b[0m\u001b[1;33m(\u001b[0m\u001b[0mmodel_lib\u001b[0m\u001b[1;33m.\u001b[0m\u001b[0mresid\u001b[0m\u001b[1;33m)\u001b[0m\u001b[1;33m,\u001b[0m \u001b[0msim_num\u001b[0m\u001b[1;33m)\u001b[0m\u001b[1;33m\u001b[0m\u001b[0m\n\u001b[1;32m---> 57\u001b[1;33m         \u001b[0mresult_lib\u001b[0m \u001b[1;33m=\u001b[0m \u001b[0mnp\u001b[0m\u001b[1;33m.\u001b[0m\u001b[0marray\u001b[0m\u001b[1;33m(\u001b[0m\u001b[1;33m[\u001b[0m\u001b[0mv\u001b[0m \u001b[1;33m+\u001b[0m \u001b[0mconst_lib\u001b[0m\u001b[1;33m[\u001b[0m\u001b[0mj\u001b[0m\u001b[1;33m]\u001b[0m \u001b[1;33m+\u001b[0m \u001b[0mslope_lib\u001b[0m\u001b[1;33m[\u001b[0m\u001b[0mj\u001b[0m\u001b[1;33m]\u001b[0m\u001b[1;33m*\u001b[0m\u001b[0mnp\u001b[0m\u001b[1;33m.\u001b[0m\u001b[0marray\u001b[0m\u001b[1;33m(\u001b[0m\u001b[0mfull_table\u001b[0m\u001b[1;33m[\u001b[0m\u001b[1;34m'Lib_poll'\u001b[0m\u001b[1;33m]\u001b[0m\u001b[1;33m[\u001b[0m\u001b[0mi\u001b[0m\u001b[1;33m:\u001b[0m\u001b[1;33m]\u001b[0m\u001b[1;33m)\u001b[0m \u001b[1;32mfor\u001b[0m \u001b[0mv\u001b[0m \u001b[1;32min\u001b[0m \u001b[0merror_lib\u001b[0m\u001b[1;33m]\u001b[0m\u001b[1;33m)\u001b[0m\u001b[1;33m\u001b[0m\u001b[0m\n\u001b[0m\u001b[0;32m     58\u001b[0m \u001b[1;33m\u001b[0m\u001b[0m\n\u001b[0;32m     59\u001b[0m         \u001b[0mresult_temp\u001b[0m \u001b[1;33m=\u001b[0m \u001b[1;33m(\u001b[0m\u001b[0mresult_con\u001b[0m\u001b[1;33m>\u001b[0m\u001b[0mresult_lab\u001b[0m\u001b[1;33m)\u001b[0m \u001b[1;33m&\u001b[0m \u001b[1;33m(\u001b[0m\u001b[0mresult_con\u001b[0m\u001b[1;33m>\u001b[0m\u001b[0mresult_lib\u001b[0m\u001b[1;33m)\u001b[0m\u001b[1;33m\u001b[0m\u001b[0m\n",
      "\u001b[1;31mKeyboardInterrupt\u001b[0m: "
     ]
    }
   ],
   "source": [
    "columns = ['time', 'Constituency','low', 'ave', 'high']\n",
    "index= full_table.index\n",
    "pred=pd.DataFrame(index=index, columns=columns)\n",
    "\n",
    "sim_num = 20\n",
    "for i in range(4,len(full_table)-7):\n",
    "    \n",
    "    #labour regression\n",
    "    data_lab=full_table[['Lab_poll','Lab[c]','Total']][0:i].dropna(axis=0)\n",
    "    X_lab=data_lab['Lab_poll']\n",
    "    Y_lab=data_lab['Lab[c]']/data_lab['Total']\n",
    "    X_lab=sm.add_constant(X_lab)\n",
    "    model_lab = sm.RLM(Y_lab, X_lab,missing = 'drop').fit()\n",
    "    \n",
    "    #extract parameters\n",
    "    const_lab = np.random.normal(model_lab.params[0], model_lab.bse[0], sim_num)\n",
    "    slope_lab = np.random.normal(model_lab.params[1], model_lab.bse[1], sim_num)\n",
    "    \n",
    "    #Conservatives regression\n",
    "    data_con=full_table[['Con_poll','Con[b]','Total']][0:i].dropna(axis=0)\n",
    "    X_con=data_con['Con_poll']\n",
    "    Y_con=data_con['Con[b]']/data_con['Total']\n",
    "    X_con=sm.add_constant(X_con)\n",
    "    model_con = sm.RLM(Y_con, X_con).fit()\n",
    "    \n",
    "    #extract parameters\n",
    "    const_con = np.random.normal(model_con.params[0], model_con.bse[0], sim_num)\n",
    "    slope_con = np.random.normal(model_con.params[1], model_con.bse[1], sim_num)\n",
    "    \n",
    "    #Liberal Regression\n",
    "    data_lib=full_table[['Lib_poll','LD','Total']][0:i].dropna(axis=0)\n",
    "    X_lib=data_lib['Lib_poll']\n",
    "    Y_lib=data_lib['LD']/data_lib['Total']\n",
    "    X_lib=sm.add_constant(X_lib)\n",
    "    model_lib = sm.RLM(Y_lib, X_lib).fit()\n",
    "    \n",
    "    #extract parameters\n",
    "    const_lib = np.random.normal(model_lib.params[0], model_lib.bse[0], sim_num)\n",
    "    slope_lib = np.random.normal(model_lib.params[1], model_lib.bse[1], sim_num)\n",
    "    \n",
    "\n",
    "    \n",
    "    result = np.zeros([sim_num, len(full_table)-i])\n",
    "    \n",
    "    for j in range(0, len(const_lab)):\n",
    "        \n",
    "        #Liberal\n",
    "        error_lab = np.random.normal(np.mean(model_lab.resid), np.std(model_lab.resid), sim_num)\n",
    "        result_lab = np.array([v + const_lab[j] + slope_lab[j]*np.array(full_table['Lab_poll'][i:]) for v in error_lab])\n",
    "        \n",
    "        #Conservative\n",
    "        error_con = np.random.normal(np.mean(model_con.resid), np.std(model_con.resid), sim_num)\n",
    "        result_con = np.array([v + const_con[j] + slope_con[j]*np.array(full_table['Con_poll'][i:]) for v in error_con])\n",
    "        \n",
    "        #Liberal\n",
    "        error_lib = np.random.normal(np.mean(model_lib.resid), np.std(model_lib.resid), sim_num)\n",
    "        result_lib = np.array([v + const_lib[j] + slope_lib[j]*np.array(full_table['Lib_poll'][i:]) for v in error_lib])\n",
    "        \n",
    "        result_temp = (result_con>result_lab) & (result_con>result_lib)\n",
    "        result = np.append(result, result_temp,axis=0)\n",
    "       \n",
    "    #remove the zeros during initialisation\n",
    "    result = np.delete(result,range(0,sim_num),0)\n",
    "    result = result.astype(int)\n",
    "        \n",
    "    #filling the result of intermediates states with current count\n",
    "#    select.result[select.result.isnull()[0:i]]=(select['trump'][select.result.isnull()[0:i]]>select['clinton'][select.result.isnull()[0:i]]).astype(int)\n",
    "    \n",
    "    EEV=len(full_table.Party[0:i][full_table.Party=='Con'])+ np.count_nonzero(result, axis=1)\n",
    "#    print(jointb['time'][i],jointb['State'][i], EEV)\n",
    "\n",
    "    #make table for plot\n",
    "    pred.time[i]=full_table.time[i]\n",
    "    pred.Constituency[i]=full_table.Constituency[i]\n",
    "    pred.low[i]=np.mean(EEV)-np.std(EEV)\n",
    "    pred.ave[i]=np.mean(EEV)\n",
    "    pred.high[i]=np.mean(EEV)+np.std(EEV)\n",
    "\n",
    "# keep only the last value at a certain time. And remove NAs.\n",
    "pred=pred.drop_duplicates(subset='time', keep='last').dropna(axis=0, how='all')\n",
    "pred.index = np.arange(0,len(pred))"
   ]
  },
  {
   "cell_type": "code",
   "execution_count": 402,
   "metadata": {},
   "outputs": [
    {
     "name": "stderr",
     "output_type": "stream",
     "text": [
      "C:\\Users\\AlexH\\Anaconda3\\lib\\site-packages\\ipykernel_launcher.py:1: RuntimeWarning: invalid value encountered in greater\n",
      "  \"\"\"Entry point for launching an IPython kernel.\n"
     ]
    },
    {
     "data": {
      "text/plain": [
       "array([[False,  True,  True, ..., False, False, False],\n",
       "       [False,  True,  True, ..., False, False, False],\n",
       "       [False,  True,  True, ..., False, False, False],\n",
       "       ..., \n",
       "       [False,  True,  True, ..., False, False, False],\n",
       "       [False,  True,  True, ..., False, False, False],\n",
       "       [False,  True,  True, ..., False, False, False]], dtype=bool)"
      ]
     },
     "execution_count": 402,
     "metadata": {},
     "output_type": "execute_result"
    }
   ],
   "source": [
    "(result_con>result_lab) & (result_con>result_lib)"
   ]
  },
  {
   "cell_type": "code",
   "execution_count": null,
   "metadata": {
    "collapsed": true
   },
   "outputs": [],
   "source": []
  }
 ],
 "metadata": {
  "kernelspec": {
   "display_name": "Python 3",
   "language": "python",
   "name": "python3"
  },
  "language_info": {
   "codemirror_mode": {
    "name": "ipython",
    "version": 3
   },
   "file_extension": ".py",
   "mimetype": "text/x-python",
   "name": "python",
   "nbconvert_exporter": "python",
   "pygments_lexer": "ipython3",
   "version": "3.6.1"
  }
 },
 "nbformat": 4,
 "nbformat_minor": 2
}
