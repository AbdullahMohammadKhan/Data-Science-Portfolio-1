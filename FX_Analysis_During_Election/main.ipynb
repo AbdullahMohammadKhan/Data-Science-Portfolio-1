{
 "cells": [
  {
   "cell_type": "markdown",
   "metadata": {},
   "source": [
    "# USD/MXN Exchange Rate during 2016 US Election Night\n",
    "\n",
    "During the night of the 2016 US election night, we saw Donald Trump won the presidency while most polling agency predicted Hillary Clinton would be victorious. This came as a suprise to the most people. In this project I would like to how the financial market reacted during the election night.\n",
    "\n",
    "## Background:\n",
    "During the campaign Donald Trump repeatedly mentioned building a wall between the US and Mexico boarder, putting high import tariff on imported goods from Mexico and renegotiate or abandon NAFTA. All such action are seen as negatives for the Mexican economy whose biggest export market is the US. It is no suprise that in the event of a trump victory, the Mexican Peso will depreciate against other currencies.\n",
    "\n",
    "In this project I will run a realtime analysis on Trumps victory chance and see how fast the financial market reacted as the result came out from each state."
   ]
  },
  {
   "cell_type": "code",
   "execution_count": 1,
   "metadata": {},
   "outputs": [
    {
     "name": "stderr",
     "output_type": "stream",
     "text": [
      "C:\\Users\\AlexH\\Anaconda3\\lib\\site-packages\\statsmodels\\compat\\pandas.py:56: FutureWarning: The pandas.core.datetools module is deprecated and will be removed in a future version. Please use the pandas.tseries module instead.\n",
      "  from pandas.core import datetools\n"
     ]
    }
   ],
   "source": [
    "# -*- coding: utf-8 -*-\n",
    "\"\"\"\n",
    "Created on Wed Aug  2 16:32:27 2017\n",
    "\n",
    "@author: AlexH\n",
    "\"\"\"\n",
    "\n",
    "#Priors 1: state, number\n",
    "\n",
    "\n",
    "#Updates & Results: state, time, number\n",
    "\n",
    "#Step 1, get all data (use just website time info for now)\n",
    "\n",
    "#Step 2, rolling regression\n",
    "\n",
    "#Step 3, find error margin at each stage\n",
    "\n",
    "#Step 4, compare with financial data\n",
    "    \n",
    "\n",
    "import numpy as np\n",
    "import csv\n",
    "import matplotlib.pyplot as plt\n",
    "from sklearn import linear_model, datasets\n",
    "import statsmodels.api as sm\n",
    "\n",
    "import pandas as pd\n",
    "from collections import OrderedDict\n",
    "from datetime import date\n",
    "\n",
    "from datetime import datetime\n",
    "import matplotlib.pyplot as plt\n",
    "import matplotlib.dates as mdates\n",
    "import pylab\n",
    "\n",
    "import tweepy\n",
    "\n",
    "import json"
   ]
  },
  {
   "cell_type": "markdown",
   "metadata": {},
   "source": [
    "### Getting the Data\n",
    "\n",
    "The data is collected from the internet, polling data is from Fivethrityeight 'prior-538.csv' and the election realtime data is recorded by watching BBC election live broadcast 'results.csv'."
   ]
  },
  {
   "cell_type": "code",
   "execution_count": 2,
   "metadata": {
    "collapsed": true
   },
   "outputs": [],
   "source": [
    "#%%\n",
    "#Reading in data\n",
    "\n",
    "\n",
    "with open('data/prior-538.csv', newline='') as csvfile:\n",
    "    data = csv.reader(csvfile, delimiter=',')\n",
    "    prior=list(data)\n",
    "\n",
    "prior = pd.DataFrame(prior)\n",
    "prior.columns = ['State', 'poll', 'EV']\n",
    "\n",
    "\n",
    "#with open('call-AP.csv', newline='') as csvfile:\n",
    "#    data = csv.reader(csvfile, delimiter=',')\n",
    "#    call=list(data)\n",
    "#\n",
    "#call = pd.DataFrame(call)\n",
    "#call.columns = ['State', 'result', 'time']\n",
    "\n",
    "with open('data/results.csv', newline='') as csvfile:\n",
    "    data = csv.reader(csvfile, delimiter=',')\n",
    "    result=list(data)\n",
    "\n",
    "result = pd.DataFrame(result)\n",
    "result.columns = ['State', 'result', 'time', 'trump', 'clinton', 'diff', 'intermediate','rprpc']\n",
    "\n",
    "\n",
    "#join the table by state\n",
    "jointb = prior.join(result.set_index('State'), on='State')\n",
    "#order by time\n",
    "\n",
    "\n",
    "#remove empty rows\n",
    "jointb['EV'].replace('#N/A', np.nan, inplace=True)\n",
    "jointb.dropna(subset=['EV'],inplace=True)\n",
    "\n",
    "jointb = jointb.sort_values(by='time').reset_index(drop=True)\n",
    "jointb.index = np.arange(0,len(jointb))\n",
    "jointb[['poll', 'EV','result', 'trump', 'clinton', 'diff']]=jointb[['poll', 'EV','result', 'trump', 'clinton', 'diff']].apply(pd.to_numeric)\n",
    "\n"
   ]
  },
  {
   "cell_type": "markdown",
   "metadata": {},
   "source": [
    "### Linear Regression and Monte Carlos Simulation\n",
    "\n"
   ]
  },
  {
   "cell_type": "code",
   "execution_count": 3,
   "metadata": {},
   "outputs": [
    {
     "name": "stderr",
     "output_type": "stream",
     "text": [
      "C:\\Users\\AlexH\\Anaconda3\\lib\\site-packages\\ipykernel_launcher.py:31: SettingWithCopyWarning: \n",
      "A value is trying to be set on a copy of a slice from a DataFrame\n",
      "\n",
      "See the caveats in the documentation: http://pandas.pydata.org/pandas-docs/stable/indexing.html#indexing-view-versus-copy\n"
     ]
    }
   ],
   "source": [
    "\n",
    "#storing result\n",
    "columns = ['time', 'state','low', 'ave', 'high']\n",
    "index= jointb.index\n",
    "pred=pd.DataFrame(index=index, columns=columns)\n",
    "\n",
    "#number of simulation for (a,b) and (error)\n",
    "sim_num = 200\n",
    "for i in range(3,len(jointb)-6):\n",
    "    \n",
    "    #fit linear regression\n",
    "    select=jointb[0:i].drop_duplicates(subset='State', keep='last')\n",
    "    X=select['poll'][0:i]\n",
    "    Y=select['diff'][0:i]\n",
    "    X=sm.add_constant(X)\n",
    "    model = sm.OLS(Y, X).fit()\n",
    "    \n",
    "    #extract parameters\n",
    "    const = np.random.normal(model.params[0], model.bse[0], sim_num)\n",
    "    slope = np.random.normal(model.params[1], model.bse[1], sim_num)\n",
    "    \n",
    "    #make predictions, use states with no results and intermediate results\n",
    "    remain=jointb[~jointb.State.isin(select.State)].drop_duplicates(subset='State', keep='last')\n",
    "    for j in range(0, len(const)):\n",
    "        error = np.random.normal(np.mean(model.resid), np.std(model.resid), sim_num)\n",
    "        result = np.array([v + const[j] + slope[j]*remain['poll'] for v in error])\n",
    "        result = result>0\n",
    "        result = result.astype(int)\n",
    "        \n",
    "    #filling the result of intermediates states with current count\n",
    "    select.result[select.result.isnull()[0:i]]=(select['diff'][select.result.isnull()[0:i]]>=0).astype(int)\n",
    "    \n",
    "    EEV=sum(select['result'][0:i] * select['EV'][0:i])+ np.dot(result, remain['EV'])\n",
    "#    print(jointb['time'][i],jointb['State'][i], EEV)\n",
    "\n",
    "    #make table for plot\n",
    "    pred.time[i]=datetime.strptime(jointb.time[i], '%Y-%m-%d %H:%M')\n",
    "    pred.state[i]=jointb.State[i]\n",
    "    pred.low[i]=sorted(EEV)[int(sim_num/20)]\n",
    "    pred.ave[i]=np.mean(EEV)\n",
    "    pred.high[i]=sorted(EEV)[int(19*sim_num/20)]\n",
    "\n",
    "# keep only the last value at a certain time. And remove NAs.\n",
    "pred=pred.drop_duplicates(subset='time', keep='last').dropna(axis=0, how='all')\n",
    "pred.index = np.arange(0,len(pred))"
   ]
  },
  {
   "cell_type": "code",
   "execution_count": 4,
   "metadata": {},
   "outputs": [
    {
     "name": "stderr",
     "output_type": "stream",
     "text": [
      "C:\\Users\\AlexH\\Anaconda3\\lib\\site-packages\\ipykernel_launcher.py:17: DeprecationWarning: \n",
      ".ix is deprecated. Please use\n",
      ".loc for label based indexing or\n",
      ".iloc for positional indexing\n",
      "\n",
      "See the documentation here:\n",
      "http://pandas.pydata.org/pandas-docs/stable/indexing.html#deprecate_ix\n"
     ]
    }
   ],
   "source": [
    "#%%\n",
    "# read the USD/MXN data\n",
    "# data found here http://www.histdata.com/download-free-forex-historical-data/?/metatrader/1-minute-bar-quotes/usdmxn/2016\n",
    "# my_data = np.genfromtxt('DAT_MT_USDMXN_M1_2016.csv', delimiter=',')\n",
    "\n",
    "\n",
    "with open('data/DAT_MT_USDMXN_M1_2016.csv',newline='') as csvfile:\n",
    "    data = csv.reader(csvfile, delimiter=',')\n",
    "    fx=list(data)\n",
    "\n",
    "fx = pd.DataFrame(fx)\n",
    "\n",
    "#the sixth column is 0, drop it\n",
    "fx = fx.drop(fx.columns[6], 1)\n",
    "\n",
    "# average the minute values.\n",
    "fx['mean'] = fx.ix[:,2:5].astype(float).mean(axis=1)\n",
    "\n",
    "# extract time value to datetime format\n",
    "fx['time'] = fx.ix[:,0]+fx.ix[:,1]\n",
    "fx['time'] = [datetime.strptime(v, '%Y.%m.%d%H:%M') for v in fx['time']]\n",
    "\n",
    "fx = fx.set_index(['time'])\n",
    "fx = fx.loc[pred.time[0]:pred.time[len(pred)-1]]\n",
    "fx = fx.drop(fx.columns[0:6],1)"
   ]
  },
  {
   "cell_type": "markdown",
   "metadata": {},
   "source": [
    "### Plots"
   ]
  },
  {
   "cell_type": "code",
   "execution_count": 5,
   "metadata": {},
   "outputs": [
    {
     "data": {
      "image/png": "[encoded data removed]",
      "text/plain": [
       "<matplotlib.figure.Figure at 0x21af2bb3438>"
      ]
     },
     "metadata": {},
     "output_type": "display_data"
    }
   ],
   "source": [
    "#%%\n",
    "fig, ax1 = plt.subplots()\n",
    "ax1.plot_date(pred.time, pred.low,'b--', label='95% confidence')\n",
    "ax1.plot_date(pred.time, pred.ave,'r-', label='expected electoral votes')\n",
    "ax1.plot_date(pred.time, pred.high,'b--', label='95% confidence')\n",
    "plt.ylabel('Expected Votes')\n",
    "pylab.legend(loc='lower right')\n",
    "\n",
    "ax2 = ax1.twinx()\n",
    "ax2.plot(fx['mean'],'g', label='Exchange Rate')\n",
    "\n",
    "HMFmt = mdates.DateFormatter('%H:%M')\n",
    "ax1.xaxis.set_major_formatter(HMFmt)\n",
    "_ = plt.xticks(rotation=90)\n",
    "\n",
    "plt.ylabel('USD/MXN')\n",
    "\n",
    "pylab.legend(loc='upper right')\n",
    "plt.show()\n"
   ]
  },
  {
   "cell_type": "markdown",
   "metadata": {
    "collapsed": true
   },
   "source": [
    "# UK 2017 Election - GBP/USD During UK 2017 Election Night - In Progress"
   ]
  },
  {
   "cell_type": "markdown",
   "metadata": {},
   "source": [
    "## BBC Twitter Data\n",
    "\n",
    "The realtime data will be retrieved from BBCs account as they anounce real-time the election result"
   ]
  },
  {
   "cell_type": "code",
   "execution_count": 6,
   "metadata": {},
   "outputs": [],
   "source": [
    "CONSUMER_KEY = '4BByuBKYk19fpSl5iMIkju3c0'\n",
    "CONSUMER_SECRET = '2EK91aT0s7uMJ1oWECBRUwkXrxGykigrsmtqtOIAvFBPXiucQq'\n",
    "ACCESS_TOKEN = '892729320736739328-E30nIY5dacqxeugxPoe3TXB2fIjITZB'\n",
    "ACCESS_TOKEN_SECRET = 'WMViNA7y1d1trkb5nt7L5dOAHdScmYBMHm33sLeUVZrWT'\n",
    "\n",
    "\n",
    "auth = tweepy.OAuthHandler(CONSUMER_KEY, CONSUMER_SECRET)\n",
    "auth.set_access_token(ACCESS_TOKEN, ACCESS_TOKEN_SECRET)\n",
    "api = tweepy.API(auth)\n",
    "\n",
    "tweets_raw = api.user_timeline(screen_name = 'bbcelection', count = 200, include_rts = False)\n",
    "for i in range(0,5):\n",
    "    oldest=tweets_raw[-1].id\n",
    "    new_tweets = api.user_timeline(screen_name = 'bbcelection',count=200,max_id=oldest)\n",
    "    tweets_raw.extend(new_tweets)\n",
    "\n",
    "data = [[tw.created_at.year, tw.created_at.month, tw.created_at.day,\"%s.%s\"%(tw.created_at.hour, tw.created_at.minute), tw.id_str, tw.text.encode(\"utf8\")] for tw in tweets_raw ]\n",
    "tweets=pd.DataFrame(data, columns=['year','month','date','time','tweet_id','tweet'])\n"
   ]
  },
  {
   "cell_type": "code",
   "execution_count": 7,
   "metadata": {},
   "outputs": [],
   "source": [
    "UKpoll=pd.DataFrame.from_csv('data/UK2017Poll.txt', sep='\\t', header=0)"
   ]
  },
  {
   "cell_type": "code",
   "execution_count": null,
   "metadata": {
    "collapsed": true
   },
   "outputs": [],
   "source": []
  }
 ],
 "metadata": {
  "kernelspec": {
   "display_name": "Python 3",
   "language": "python",
   "name": "python3"
  },
  "language_info": {
   "codemirror_mode": {
    "name": "ipython",
    "version": 3
   },
   "file_extension": ".py",
   "mimetype": "text/x-python",
   "name": "python",
   "nbconvert_exporter": "python",
   "pygments_lexer": "ipython3",
   "version": "3.6.1"
  }
 },
 "nbformat": 4,
 "nbformat_minor": 2
}
