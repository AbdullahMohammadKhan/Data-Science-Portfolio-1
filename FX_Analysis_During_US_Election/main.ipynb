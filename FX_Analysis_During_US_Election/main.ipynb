{
 "cells": [
  {
   "cell_type": "markdown",
   "metadata": {},
   "source": [
    "# USD/MXN Exchange Rate during 2016 US Election Night - Under Construction\n",
    "\n",
    "During the night of the 2016 US election night, we saw Donald Trump won the presidency while most polling agency predicted Hillary Clinton would be victorious. This came as a suprise to the most people. In this project I would like to how the financial market reacted during the election night.\n",
    "\n",
    "## Background:\n",
    "During the campaign Donald Trump repeatedly mentioned building a wall between the US and Mexico boarder, putting high import tariff on imported goods from Mexico and renegotiate or abandon NAFTA. All such action are seen as negatives for the Mexican economy whose biggest export market is the US. It is no suprise that in the event of a trump victory, the Mexican Peso will depreciate against other currencies.\n",
    "\n",
    "In this project I will run a realtime analysis on Trumps victory chance and see how fast the financial market reacted as the result came out from each state."
   ]
  },
  {
   "cell_type": "code",
   "execution_count": 2,
   "metadata": {},
   "outputs": [
    {
     "name": "stderr",
     "output_type": "stream",
     "text": [
      "C:\\Users\\AlexH\\Anaconda3\\lib\\site-packages\\statsmodels\\compat\\pandas.py:56: FutureWarning: The pandas.core.datetools module is deprecated and will be removed in a future version. Please use the pandas.tseries module instead.\n",
      "  from pandas.core import datetools\n"
     ]
    }
   ],
   "source": [
    "# -*- coding: utf-8 -*-\n",
    "\"\"\"\n",
    "Created on Wed Aug  2 16:32:27 2017\n",
    "\n",
    "@author: AlexH\n",
    "\"\"\"\n",
    "\n",
    "#Priors 1: state, number\n",
    "\n",
    "\n",
    "#Updates & Results: state, time, number\n",
    "\n",
    "#Step 1, get all data (use just website time info for now)\n",
    "\n",
    "#Step 2, rolling regression\n",
    "\n",
    "#Step 3, find error margin at each stage\n",
    "\n",
    "#Step 4, compare with financial data\n",
    "    \n",
    "\n",
    "import numpy as np\n",
    "import csv\n",
    "import matplotlib.pyplot as plt\n",
    "from sklearn import linear_model, datasets\n",
    "import statsmodels.api as sm\n",
    "\n",
    "import pandas as pd\n",
    "from collections import OrderedDict\n",
    "from datetime import date\n",
    "\n",
    "from datetime import datetime\n",
    "import matplotlib.pyplot as plt\n",
    "import matplotlib.dates as mdates\n",
    "import pylab\n"
   ]
  },
  {
   "cell_type": "markdown",
   "metadata": {},
   "source": [
    "### Getting the Data\n",
    "\n",
    "The data is collected from the internet, polling data is from Fivethrityeight 'prior-538.csv' and the election realtime data is recorded by watching BBC/CNN election live broadcast 'results.csv'."
   ]
  },
  {
   "cell_type": "code",
   "execution_count": 3,
   "metadata": {
    "collapsed": true
   },
   "outputs": [],
   "source": [
    "#%%\n",
    "#Reading in data\n",
    "\n",
    "\n",
    "# with open('data/prior_538.csv', newline='') as csvfile:\n",
    "#     data = csv.reader(csvfile, delimiter=',')\n",
    "#     prior=list(data)\n",
    "prior = pd.read_csv('data/prior_538.csv')\n",
    "\n",
    "prior = pd.DataFrame(prior)\n",
    "prior.columns = ['State', 'poll_hc', 'poll_dt', 'poll_gj']\n",
    "prior.State=[name.replace('-',' ') for name in prior.State]\n",
    "\n",
    "#with open('call-AP.csv', newline='') as csvfile:\n",
    "#    data = csv.reader(csvfile, delimiter=',')\n",
    "#    call=list(data)\n",
    "#\n",
    "#call = pd.DataFrame(call)\n",
    "#call.columns = ['State', 'result', 'time']\n",
    "\n",
    "with open('data/results CNN.csv', newline='') as csvfile:\n",
    "    data = csv.reader(csvfile, delimiter=',')\n",
    "    result=list(data)\n",
    "\n",
    "result = pd.DataFrame(result)\n",
    "result.columns = ['State', 'result', 'time', 'trump', 'clinton', 'EV', 'intermediate','rprpc']\n",
    "result.State=[name.lower() for name in result.State]\n",
    "\n",
    "\n",
    "#join the table by state\n",
    "jointb = prior.join(result.set_index('State'), on='State')\n",
    "#order by time\n",
    "\n",
    "\n",
    "\n",
    "\n",
    "\n",
    "\n",
    "jointb = jointb.sort_values(by='time').reset_index(drop=True)\n",
    "jointb.index = np.arange(0,len(jointb))\n",
    "jointb[[ 'EV','result', 'trump', 'clinton', 'poll_hc', 'poll_dt', 'poll_gj']]=jointb[[ 'EV','result', 'trump', 'clinton','poll_hc', 'poll_dt', 'poll_gj' ]].apply(pd.to_numeric)\n",
    "#jointb.EV.fillna(0,inplace =True)\n"
   ]
  },
  {
   "cell_type": "markdown",
   "metadata": {},
   "source": [
    "### Linear Regression and Monte Carlos Simulation\n",
    "\n"
   ]
  },
  {
   "cell_type": "code",
   "execution_count": 4,
   "metadata": {},
   "outputs": [
    {
     "name": "stderr",
     "output_type": "stream",
     "text": [
      "C:\\Users\\AlexH\\Anaconda3\\lib\\site-packages\\ipykernel_launcher.py:57: SettingWithCopyWarning: \n",
      "A value is trying to be set on a copy of a slice from a DataFrame\n",
      "\n",
      "See the caveats in the documentation: http://pandas.pydata.org/pandas-docs/stable/indexing.html#indexing-view-versus-copy\n"
     ]
    }
   ],
   "source": [
    "\n",
    "#storing result\n",
    "columns = ['time', 'state','low', 'ave', 'high']\n",
    "index= jointb.index\n",
    "pred=pd.DataFrame(index=index, columns=columns)\n",
    "\n",
    "#number of simulation for (a,b) and (error)\n",
    "sim_num = 200\n",
    "for i in range(4,len(jointb)-7):\n",
    "    \n",
    "    #Trump regression\n",
    "    #fit linear regression\n",
    "    select=jointb[0:i].drop_duplicates(subset='State', keep='last')\n",
    "    X_dt=select['poll_dt']\n",
    "    Y_dt=select['trump']\n",
    "    X_dt=sm.add_constant(X_dt)\n",
    "    model_dt = sm.RLM(Y_dt, X_dt).fit()\n",
    "    \n",
    "    #extract parameters\n",
    "    const_dt = np.random.normal(model_dt.params[0], model_dt.bse[0], sim_num)\n",
    "    slope_dt = np.random.normal(model_dt.params[1], model_dt.bse[1], sim_num)\n",
    "    \n",
    "    #Clinton regression\n",
    "    X_hc=select['poll_hc']\n",
    "    Y_hc=select['clinton']\n",
    "    X_hc=sm.add_constant(X_hc)\n",
    "    model_hc = sm.RLM(Y_hc, X_hc).fit()\n",
    "    \n",
    "    #extract parameters\n",
    "    const_hc = np.random.normal(model_hc.params[0], model_hc.bse[0], sim_num)\n",
    "    slope_hc = np.random.normal(model_hc.params[1], model_hc.bse[1], sim_num)\n",
    "    \n",
    "    #make predictions, use states with no results and intermediate results\n",
    "    remain=jointb[~jointb.State.isin(select.State)].drop_duplicates(subset='State', keep='last')\n",
    "    \n",
    "    result = np.zeros([sim_num, len(remain)])\n",
    "    \n",
    "    for j in range(0, len(const_dt)):\n",
    "        \n",
    "        #trump\n",
    "        error_dt = np.random.normal(np.mean(model_dt.resid), np.std(model_dt.resid), sim_num)\n",
    "        result_dt = np.array([v + const_dt[j] + slope_dt[j]*np.array(remain['poll_dt']) for v in error_dt])\n",
    "        \n",
    "        #clinton\n",
    "        error_hc = np.random.normal(np.mean(model_hc.resid), np.std(model_hc.resid), sim_num)\n",
    "        result_hc = np.array([v + const_hc[j] + slope_hc[j]*np.array(remain['poll_hc']) for v in error_hc])\n",
    "        \n",
    "        \n",
    "        result_temp = result_dt>result_hc\n",
    "        result = np.append(result, result_temp,axis=0)\n",
    "       \n",
    "    #remove the zeros during initialisation\n",
    "    result = np.delete(result,range(0,sim_num),0)\n",
    "    result = result.astype(int)\n",
    "        \n",
    "    #filling the result of intermediates states with current count\n",
    "    select.result[select.result.isnull()[0:i]]=(select['trump'][select.result.isnull()[0:i]]>select['clinton'][select.result.isnull()[0:i]]).astype(int)\n",
    "    \n",
    "    EEV=sum(select['result'] * select['EV'])+ np.dot(result, remain['EV'])\n",
    "#    print(jointb['time'][i],jointb['State'][i], EEV)\n",
    "\n",
    "    #make table for plot\n",
    "    pred.time[i]=datetime.strptime(jointb.time[i], '%Y-%m-%d %H:%M')\n",
    "    pred.state[i]=jointb.State[i]\n",
    "    pred.low[i]=np.mean(EEV)-np.std(EEV)\n",
    "    pred.ave[i]=np.mean(EEV)\n",
    "    pred.high[i]=np.mean(EEV)+np.std(EEV)\n",
    "\n",
    "# keep only the last value at a certain time. And remove NAs.\n",
    "pred=pred.drop_duplicates(subset='time', keep='last').dropna(axis=0, how='all')\n",
    "pred.index = np.arange(0,len(pred))"
   ]
  },
  {
   "cell_type": "code",
   "execution_count": 5,
   "metadata": {},
   "outputs": [
    {
     "name": "stderr",
     "output_type": "stream",
     "text": [
      "C:\\Users\\AlexH\\Anaconda3\\lib\\site-packages\\ipykernel_launcher.py:17: DeprecationWarning: \n",
      ".ix is deprecated. Please use\n",
      ".loc for label based indexing or\n",
      ".iloc for positional indexing\n",
      "\n",
      "See the documentation here:\n",
      "http://pandas.pydata.org/pandas-docs/stable/indexing.html#deprecate_ix\n"
     ]
    }
   ],
   "source": [
    "#%%\n",
    "# read the USD/MXN data\n",
    "# data found here http://www.histdata.com/download-free-forex-historical-data/?/metatrader/1-minute-bar-quotes/usdmxn/2016\n",
    "# my_data = np.genfromtxt('DAT_MT_USDMXN_M1_2016.csv', delimiter=',')\n",
    "\n",
    "\n",
    "with open('data/DAT_MT_USDMXN_M1_2016.csv',newline='') as csvfile:\n",
    "    data = csv.reader(csvfile, delimiter=',')\n",
    "    fx=list(data)\n",
    "\n",
    "fx = pd.DataFrame(fx)\n",
    "\n",
    "#the sixth column is 0, drop it\n",
    "fx = fx.drop(fx.columns[6], 1)\n",
    "\n",
    "# average the minute values.\n",
    "fx['mean'] = fx.ix[:,2:5].astype(float).mean(axis=1)\n",
    "\n",
    "# extract time value to datetime format\n",
    "fx['time'] = fx.ix[:,0]+fx.ix[:,1]\n",
    "fx['time'] = [datetime.strptime(v, '%Y.%m.%d%H:%M') for v in fx['time']]\n",
    "\n",
    "fx = fx.set_index(['time'])\n",
    "fx = fx.loc[pred.time[0]:pred.time[len(pred)-1]]\n",
    "fx = fx.drop(fx.columns[0:6],1)"
   ]
  },
  {
   "cell_type": "markdown",
   "metadata": {},
   "source": [
    "### Plots"
   ]
  },
  {
   "cell_type": "code",
   "execution_count": 6,
   "metadata": {},
   "outputs": [
    {
     "data": {
      "image/png": "[encoded data removed]",
      "text/plain": [
       "<matplotlib.figure.Figure at 0x19d3f262a90>"
      ]
     },
     "metadata": {},
     "output_type": "display_data"
    },
    {
     "ename": "FileNotFoundError",
     "evalue": "[Errno 2] No such file or directory: 'plots/results.png'",
     "output_type": "error",
     "traceback": [
      "\u001b[1;31m---------------------------------------------------------------------------\u001b[0m",
      "\u001b[1;31mFileNotFoundError\u001b[0m                         Traceback (most recent call last)",
      "\u001b[1;32m<ipython-input-6-1a63cdb5d27d>\u001b[0m in \u001b[0;36m<module>\u001b[1;34m()\u001b[0m\n\u001b[0;32m     21\u001b[0m \u001b[1;33m\u001b[0m\u001b[0m\n\u001b[0;32m     22\u001b[0m \u001b[0mplt\u001b[0m\u001b[1;33m.\u001b[0m\u001b[0mshow\u001b[0m\u001b[1;33m(\u001b[0m\u001b[1;33m)\u001b[0m\u001b[1;33m\u001b[0m\u001b[0m\n\u001b[1;32m---> 23\u001b[1;33m \u001b[0mfig\u001b[0m\u001b[1;33m.\u001b[0m\u001b[0msavefig\u001b[0m\u001b[1;33m(\u001b[0m\u001b[1;34m'plots/results.png'\u001b[0m\u001b[1;33m)\u001b[0m\u001b[1;33m\u001b[0m\u001b[0m\n\u001b[0m",
      "\u001b[1;32mC:\\Users\\AlexH\\Anaconda3\\lib\\site-packages\\matplotlib\\figure.py\u001b[0m in \u001b[0;36msavefig\u001b[1;34m(self, *args, **kwargs)\u001b[0m\n\u001b[0;32m   1571\u001b[0m             \u001b[0mself\u001b[0m\u001b[1;33m.\u001b[0m\u001b[0mset_frameon\u001b[0m\u001b[1;33m(\u001b[0m\u001b[0mframeon\u001b[0m\u001b[1;33m)\u001b[0m\u001b[1;33m\u001b[0m\u001b[0m\n\u001b[0;32m   1572\u001b[0m \u001b[1;33m\u001b[0m\u001b[0m\n\u001b[1;32m-> 1573\u001b[1;33m         \u001b[0mself\u001b[0m\u001b[1;33m.\u001b[0m\u001b[0mcanvas\u001b[0m\u001b[1;33m.\u001b[0m\u001b[0mprint_figure\u001b[0m\u001b[1;33m(\u001b[0m\u001b[1;33m*\u001b[0m\u001b[0margs\u001b[0m\u001b[1;33m,\u001b[0m \u001b[1;33m**\u001b[0m\u001b[0mkwargs\u001b[0m\u001b[1;33m)\u001b[0m\u001b[1;33m\u001b[0m\u001b[0m\n\u001b[0m\u001b[0;32m   1574\u001b[0m \u001b[1;33m\u001b[0m\u001b[0m\n\u001b[0;32m   1575\u001b[0m         \u001b[1;32mif\u001b[0m \u001b[0mframeon\u001b[0m\u001b[1;33m:\u001b[0m\u001b[1;33m\u001b[0m\u001b[0m\n",
      "\u001b[1;32mC:\\Users\\AlexH\\Anaconda3\\lib\\site-packages\\matplotlib\\backend_bases.py\u001b[0m in \u001b[0;36mprint_figure\u001b[1;34m(self, filename, dpi, facecolor, edgecolor, orientation, format, **kwargs)\u001b[0m\n\u001b[0;32m   2250\u001b[0m                 \u001b[0morientation\u001b[0m\u001b[1;33m=\u001b[0m\u001b[0morientation\u001b[0m\u001b[1;33m,\u001b[0m\u001b[1;33m\u001b[0m\u001b[0m\n\u001b[0;32m   2251\u001b[0m                 \u001b[0mbbox_inches_restore\u001b[0m\u001b[1;33m=\u001b[0m\u001b[0m_bbox_inches_restore\u001b[0m\u001b[1;33m,\u001b[0m\u001b[1;33m\u001b[0m\u001b[0m\n\u001b[1;32m-> 2252\u001b[1;33m                 **kwargs)\n\u001b[0m\u001b[0;32m   2253\u001b[0m         \u001b[1;32mfinally\u001b[0m\u001b[1;33m:\u001b[0m\u001b[1;33m\u001b[0m\u001b[0m\n\u001b[0;32m   2254\u001b[0m             \u001b[1;32mif\u001b[0m \u001b[0mbbox_inches\u001b[0m \u001b[1;32mand\u001b[0m \u001b[0mrestore_bbox\u001b[0m\u001b[1;33m:\u001b[0m\u001b[1;33m\u001b[0m\u001b[0m\n",
      "\u001b[1;32mC:\\Users\\AlexH\\Anaconda3\\lib\\site-packages\\matplotlib\\backends\\backend_agg.py\u001b[0m in \u001b[0;36mprint_png\u001b[1;34m(self, filename_or_obj, *args, **kwargs)\u001b[0m\n\u001b[0;32m    548\u001b[0m         \u001b[0mrenderer\u001b[0m\u001b[1;33m.\u001b[0m\u001b[0mdpi\u001b[0m \u001b[1;33m=\u001b[0m \u001b[0mself\u001b[0m\u001b[1;33m.\u001b[0m\u001b[0mfigure\u001b[0m\u001b[1;33m.\u001b[0m\u001b[0mdpi\u001b[0m\u001b[1;33m\u001b[0m\u001b[0m\n\u001b[0;32m    549\u001b[0m         \u001b[1;32mif\u001b[0m \u001b[0mis_string_like\u001b[0m\u001b[1;33m(\u001b[0m\u001b[0mfilename_or_obj\u001b[0m\u001b[1;33m)\u001b[0m\u001b[1;33m:\u001b[0m\u001b[1;33m\u001b[0m\u001b[0m\n\u001b[1;32m--> 550\u001b[1;33m             \u001b[0mfilename_or_obj\u001b[0m \u001b[1;33m=\u001b[0m \u001b[0mopen\u001b[0m\u001b[1;33m(\u001b[0m\u001b[0mfilename_or_obj\u001b[0m\u001b[1;33m,\u001b[0m \u001b[1;34m'wb'\u001b[0m\u001b[1;33m)\u001b[0m\u001b[1;33m\u001b[0m\u001b[0m\n\u001b[0m\u001b[0;32m    551\u001b[0m             \u001b[0mclose\u001b[0m \u001b[1;33m=\u001b[0m \u001b[1;32mTrue\u001b[0m\u001b[1;33m\u001b[0m\u001b[0m\n\u001b[0;32m    552\u001b[0m         \u001b[1;32melse\u001b[0m\u001b[1;33m:\u001b[0m\u001b[1;33m\u001b[0m\u001b[0m\n",
      "\u001b[1;31mFileNotFoundError\u001b[0m: [Errno 2] No such file or directory: 'plots/results.png'"
     ]
    }
   ],
   "source": [
    "#%%\n",
    "fig, ax1 = plt.subplots()\n",
    "ax1.plot_date(pred.time, pred.low,'b--', label='1 STD boundry')\n",
    "ax1.plot_date(pred.time, pred.ave,'r-', label='expected electoral votes')\n",
    "ax1.plot_date(pred.time, pred.high,'b--', label='1 STD boundry')\n",
    "plt.ylabel('Expected Votes')\n",
    "pylab.legend(loc='lower right')\n",
    "plt.axhline(y=270)\n",
    "\n",
    "ax2 = ax1.twinx()\n",
    "ax2.plot(fx['mean'],'g', label='Exchange Rate')\n",
    "\n",
    "HMFmt = mdates.DateFormatter('%H:%M')\n",
    "ax1.xaxis.set_major_formatter(HMFmt)\n",
    "_ = plt.xticks(rotation=90)\n",
    "\n",
    "plt.ylabel('USD/MXN')\n",
    "\n",
    "pylab.legend(loc='upper right')\n",
    "\n",
    "\n",
    "plt.show()\n",
    "fig.savefig('plots/results.png')"
   ]
  },
  {
   "cell_type": "code",
   "execution_count": 38,
   "metadata": {},
   "outputs": [
    {
     "data": {
      "image/png": "[encoded data removed]",
      "text/plain": [
       "<matplotlib.figure.Figure at 0x238011a49b0>"
      ]
     },
     "metadata": {},
     "output_type": "display_data"
    }
   ],
   "source": [
    "#plot after each update\n",
    "fig, ax1 = plt.subplots()\n",
    "ax1.plot(pred.low,'b--', label='95% confidence')\n",
    "ax1.plot(pred.ave,'r-', label='expected electoral votes')\n",
    "ax1.plot(pred.high,'b--', label='95% confidence')\n",
    "plt.ylabel('Expected Votes')\n",
    "plt.axhline(y=270)\n",
    "plt.show()"
   ]
  },
  {
   "cell_type": "markdown",
   "metadata": {
    "collapsed": true
   },
   "source": [
    "# UK 2017 Election - GBP/USD During UK 2017 Election Night - In Progress"
   ]
  },
  {
   "cell_type": "code",
   "execution_count": 1,
   "metadata": {},
   "outputs": [
    {
     "ename": "NameError",
     "evalue": "name 'X_dt' is not defined",
     "output_type": "error",
     "traceback": [
      "\u001b[1;31m---------------------------------------------------------------------------\u001b[0m",
      "\u001b[1;31mNameError\u001b[0m                                 Traceback (most recent call last)",
      "\u001b[1;32m<ipython-input-1-3f9eb6416886>\u001b[0m in \u001b[0;36m<module>\u001b[1;34m()\u001b[0m\n\u001b[1;32m----> 1\u001b[1;33m \u001b[0mX_dt\u001b[0m\u001b[1;33m\u001b[0m\u001b[0m\n\u001b[0m",
      "\u001b[1;31mNameError\u001b[0m: name 'X_dt' is not defined"
     ]
    }
   ],
   "source": [
    "X_dt"
   ]
  },
  {
   "cell_type": "code",
   "execution_count": 7,
   "metadata": {
    "collapsed": true
   },
   "outputs": [],
   "source": []
  }
 ],
 "metadata": {
  "kernelspec": {
   "display_name": "Python 3",
   "language": "python",
   "name": "python3"
  },
  "language_info": {
   "codemirror_mode": {
    "name": "ipython",
    "version": 3
   },
   "file_extension": ".py",
   "mimetype": "text/x-python",
   "name": "python",
   "nbconvert_exporter": "python",
   "pygments_lexer": "ipython3",
   "version": "3.6.1"
  }
 },
 "nbformat": 4,
 "nbformat_minor": 2
}
